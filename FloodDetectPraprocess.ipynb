{
 "cells": [
  {
   "cell_type": "markdown",
   "metadata": {},
   "source": [
    "### Definisi Kelas\n",
    "> \n",
    "* Saat lisensi tidak ditemukan\n",
    "* Saat projeksi referensi error"
   ]
  },
  {
   "cell_type": "code",
   "execution_count": 1,
   "metadata": {
    "collapsed": true
   },
   "outputs": [],
   "source": [
    "class LicenseError(Exception):\n",
    "    pass\n",
    "\n",
    "class SpatialRefProjError (Exception):\n",
    "    pass"
   ]
  },
  {
   "cell_type": "markdown",
   "metadata": {},
   "source": [
    "### Import Library yang diperlukan\n",
    "> \n",
    "* arcpy sebagai tools geoprocessing utama\n",
    "* pandas dan numpy sebagai tools manipulasi daframe dan matriks"
   ]
  },
  {
   "cell_type": "code",
   "execution_count": 2,
   "metadata": {
    "collapsed": true
   },
   "outputs": [],
   "source": [
    "import arcpy as ap\n",
    "import pandas as pd\n",
    "import numpy as np\n",
    "import os, sys, time, glob, math, string"
   ]
  },
  {
   "cell_type": "markdown",
   "metadata": {},
   "source": [
    "### Fungsi untuk checkin dan checkout\n",
    "> \n",
    "* setiap fungsi pada arcgis memerlukan lisensi saat dijalankan di area luar desktop\n",
    "* checkout digunakan saat mulai memanggil ekstensi yang diinginkan dan checkin saat fungsi telah selesai"
   ]
  },
  {
   "cell_type": "code",
   "execution_count": 3,
   "metadata": {
    "collapsed": true
   },
   "outputs": [],
   "source": [
    "##  Checkout ArcGIS extension by name\n",
    "def checkout_Ext(ext_type):\n",
    "    if ap.CheckExtension(ext_type) == 'Available':\n",
    "        ap.CheckOutExtension(ext_type)\n",
    "        print \"\\nChecking out \" + ext_type + \" Extension\"\n",
    "    else:\n",
    "        raise LicenseError\n",
    "        print \"\\nCannot checkout \" + ext_type + \" Extension\"\n",
    "\n",
    "\n",
    "##  Checkin ArcGIS extension by name\n",
    "def checkin_Ext(ext_type):\n",
    "    ap.CheckInExtension(ext_type)\n",
    "    print \"\\nChecking in \" + ext_type + \" Extension\""
   ]
  },
  {
   "cell_type": "markdown",
   "metadata": {},
   "source": [
    "### Fungsi mengambil nomer band\n",
    "> \n",
    "* setiap nama file data akan diambil nomer bandnya saja"
   ]
  },
  {
   "cell_type": "code",
   "execution_count": 4,
   "metadata": {
    "collapsed": true
   },
   "outputs": [],
   "source": [
    "def band_nmbr(filename):\n",
    "\n",
    "    try:\n",
    "        band_num = int(filename.split('_')[1].split('.')[0].replace('B', ''))\n",
    "        return band_num\n",
    "    except:\n",
    "        pass"
   ]
  },
  {
   "cell_type": "markdown",
   "metadata": {},
   "source": [
    "### Fungsi membaca metadata\n",
    "> \n",
    "* data dapat dipanggil dengan double bracket dengan urutan [group][atribut]"
   ]
  },
  {
   "cell_type": "code",
   "execution_count": 5,
   "metadata": {
    "collapsed": true
   },
   "outputs": [],
   "source": [
    "def readMetadata(metadataFile):\n",
    "\n",
    "    f = metadataFile\n",
    "    \n",
    "    #Create an empty dictionary with which to populate all the metadata fields.\n",
    "    metadata = {}\n",
    "\n",
    "    #Each item in the txt document is seperated by a space and each key is\n",
    "    #equated with '='. This loop strips and seperates then fills the dictonary.\n",
    "\n",
    "    for line in f:\n",
    "        if not line.strip() == \"END\":\n",
    "            val = line.strip().split('=')\n",
    "            metadata [val[0].strip()] = val[1].strip().strip('\"')      \n",
    "        else:\n",
    "            break\n",
    "\n",
    "    return metadata"
   ]
  },
  {
   "cell_type": "markdown",
   "metadata": {},
   "source": [
    "### Fungsi reprojeksi\n",
    "> \n",
    "* disesuaikan dengan projeksi yang diinginkan\n",
    "* langkah awal untuk melakukan perhitungan TOA reflectance"
   ]
  },
  {
   "cell_type": "code",
   "execution_count": 6,
   "metadata": {
    "collapsed": true
   },
   "outputs": [],
   "source": [
    "def reproject(input_dir, output_dir, projection, meta):\n",
    "    #  Setting output directory id not defined\n",
    "    ap.env.workspace = input_dir\n",
    "    if os.path.exists(output_dir):\n",
    "        os.system('rmdir /s /q '+ output_dir)\n",
    "        #sys.exit(0)\n",
    "        print \"\\nDirectory for reprojection already Exisits\"\n",
    "        os.mkdir(output_dir)\n",
    "    else:\n",
    "        os.mkdir(output_dir)\n",
    "        print \"\\nCreated the output directory: \" + output_dir  \n",
    "\n",
    "    rasters = ap.ListRasters('*.TIF')\n",
    "    ms_bands = [band for band in rasters if (band_nmbr(band) >= 4 and band_nmbr(band) <=6)]\n",
    "    bqa_band = [band for band in rasters if (band_nmbr(band) == None)][0]\n",
    "    #bqa_band = ms_bands[0]\n",
    "    try:\n",
    "        #checkout_Ext(\"Spatial\")\n",
    "        print \"\\nReprojecting and Cleaning landsat bands.\"\n",
    "        ap.AddMessage(\"\\nReprojecting and Cleaning landsat bands.\")\n",
    "        for band in ms_bands:\n",
    "            print \"\\nReclassifying NoData for band \" + band\n",
    "            ap.AddMessage(\"\\nReclassifying NoData for band \" + band)\n",
    "            outCon = ap.sa.Con(ap.sa.Raster(bqa_band) != 1, ap.sa.Raster(band))\n",
    "            out_band = os.path.join(output_dir, band)\n",
    "\n",
    "            print \"Reprojecting band\"\n",
    "            ap.AddMessage(\"Reprojecting band\")\n",
    "            ap.ProjectRaster_management(outCon, out_band, projection)\n",
    "\n",
    "    except SpatialRefProjError:\n",
    "        ap.AddError (\"Spatial Data must use a projected coordinate system to run\")\n",
    "\n",
    "    except LicenseError:\n",
    "        ap.AddError (\"Spatial Analyst license is unavailable\")\n",
    "        \n",
    "    finally:\n",
    "        checkin_Ext(\"Spatial\")"
   ]
  },
  {
   "cell_type": "markdown",
   "metadata": {},
   "source": [
    "### Fungsi konversi digital number to TOA reflectance"
   ]
  },
  {
   "cell_type": "code",
   "execution_count": 7,
   "metadata": {
    "collapsed": true
   },
   "outputs": [],
   "source": [
    "def calc_toa(input_dir, output_dir, meta):\n",
    "    '''Raster Algebra to run reflectance equation\n",
    "\n",
    "        @param   input_dir: landsat 8 directory after unzip\n",
    "        @type    input_dir: c{str}\n",
    "        @param   meta: metadata parsed from MTL file\n",
    "        @type    meta: dictionary\n",
    "        @return  output: out raster path\n",
    "    '''\n",
    "\n",
    "    ##  Setting output directory id not defined\n",
    "    ap.env.workspace = input_dir\n",
    "\n",
    "    if output_dir is None:\n",
    "        output_dir = os.path.join(input_dir, \"TOA\")\n",
    "        if os.path.exists(output_dir):\n",
    "            sys.exit(0)\n",
    "            print \"\\nDirectory for reprojection already Exisits\"\n",
    "            ap.AddMessage(\"\\nDirectory for reprojection already Exisits\")\n",
    "        else:\n",
    "            os.mkdir(output_dir)\n",
    "            print \"\\nCreated the output directory: \" + output_dir\n",
    "            ap.AddMessage(\"\\nCreated the output directory: \" + output_dir)\n",
    "    else:\n",
    "        if os.path.exists(output_dir):\n",
    "            sys.exit(0)\n",
    "            print \"\\nDirectory for reprojection already Exisits\"\n",
    "            ap.AddMessage(\"\\nDirectory for reprojection already Exisits\")\n",
    "        else:\n",
    "            os.mkdir(output_dir)\n",
    "            print \"\\nCreated the output directory: \" + output_dir\n",
    "            ap.AddMessage(\"\\nCreated the output directory: \" + output_dir)\n",
    "\n",
    "    rasters = ap.ListRasters('*.TIF')\n",
    "    ms_bands = [band for band in rasters if (band_nmbr(band) != None)]\n",
    "\n",
    "    try:\n",
    "\n",
    "        #checkout_Ext(\"Spatial\")\n",
    "\n",
    "        print \"\\nCalculating TOA Reflectance for landsat 8 bands\"\n",
    "        ap.AddMessage(\"\\nCalculating TOA Reflectance for landsat 8 bands\")\n",
    "        for band in ms_bands:\n",
    "\n",
    "            print \"\\nBegining to calculate TOA for \" + band\n",
    "            ap.AddMessage(\"\\nBegining to calculate TOA for \" + band)\n",
    "            number = band_nmbr(band)\n",
    "            raster_band = ap.sa.Raster(band)\n",
    "            out_band = str(meta['L1_METADATA_FILE']['LANDSAT_SCENE_ID']) + 'TOA_B' + str(number) + '.img'\n",
    "        \n",
    "            sun_elev = float(meta['IMAGE_ATTRIBUTES']['SUN_ELEVATION'])\n",
    "            rad_mult = float(meta['RADIOMETRIC_RESCALING']['RADIANCE_MULT_BAND_' + str(number)])\n",
    "            rad_add = float(meta['RADIOMETRIC_RESCALING']['RADIANCE_ADD_BAND_' + str(number)])\n",
    "        \n",
    "            toa_refl = (rad_mult*raster_band + rad_add)/(math.sin(sun_elev))\n",
    "\n",
    "            print \"Writing \" + str(out_band)\n",
    "            ap.AddMessage(\"Writing \" + str(out_band))\n",
    "            toa_refl.save(os.path.join(output_dir, out_band))\n",
    "\n",
    "    except SpatialRefProjError:\n",
    "        ap.AddError (\"Spatial Data must use a projected coordinate system to run\")\n",
    "\n",
    "    except LicenseError:\n",
    "        ap.AddError (\"Spatial Analyst license is unavailable\") \t\n",
    "\n",
    "    finally:\n",
    "        checkin_Ext(\"Spatial\")"
   ]
  },
  {
   "cell_type": "code",
   "execution_count": 8,
   "metadata": {
    "collapsed": true
   },
   "outputs": [],
   "source": [
    "dataPath = \"D:\\FloodDetect\\Clone1\"\n",
    "projectedPath = \"D:\\FloodDetect\\Clone1\\processed\"\n",
    "toaPath = \"D:\\FloodDetect\\Clone1\\RefToa\"\n",
    "metadataPath = \"D:\\FloodDetect\\Clone1\\LC81210602015188RPI00_MTL.txt\"\n",
    "projection = \"PROJCS['WGS_1984_ARC_System_Zone_13',GEOGCS['GCS_WGS_1984',DATUM['D_WGS_1984',SPHEROID['WGS_1984',6378137.0,298.257223563]],PRIMEM['Greenwich',0.0],UNIT['Degree',0.0174532925199433]],PROJECTION['Equidistant_Cylindrical'],PARAMETER['False_Easting',0.0],PARAMETER['False_Northing',0.0],PARAMETER['Central_Meridian',0.0],PARAMETER['Standard_Parallel_1',-60.32378942],UNIT['Meter',1.0]];-9920700 -10018900 10000;-100000 10000;-100000 10000;0.001;0.001;0.001;IsHighPrecision\""
   ]
  },
  {
   "cell_type": "code",
   "execution_count": 9,
   "metadata": {
    "collapsed": true
   },
   "outputs": [],
   "source": [
    "metadataFile = open(metadataPath)\n",
    "metadata = readMetadata(metadataFile)"
   ]
  },
  {
   "cell_type": "code",
   "execution_count": 10,
   "metadata": {},
   "outputs": [
    {
     "name": "stdout",
     "output_type": "stream",
     "text": [
      "\n",
      "Created the output directory: D:\\FloodDetect\\Clone1\\processed\n",
      "\n",
      "Reprojecting and Cleaning landsat bands.\n",
      "\n",
      "Reclassifying NoData for band LC81210602015188RPI00_B4.TIF\n",
      "Reprojecting band\n",
      "\n",
      "Reclassifying NoData for band LC81210602015188RPI00_B5.TIF\n",
      "Reprojecting band\n",
      "\n",
      "Reclassifying NoData for band LC81210602015188RPI00_B6.TIF\n",
      "Reprojecting band\n",
      "\n",
      "Checking in Spatial Extension\n"
     ]
    }
   ],
   "source": [
    "reproject(dataPath, projectedPath, projection , metadata)"
   ]
  },
  {
   "cell_type": "code",
   "execution_count": 11,
   "metadata": {
    "collapsed": true
   },
   "outputs": [],
   "source": [
    "#calc_toa(projectedPath, toaPath, metadata)"
   ]
  }
 ],
 "metadata": {
  "kernelspec": {
   "display_name": "Python [default]",
   "language": "python",
   "name": "python2"
  },
  "language_info": {
   "codemirror_mode": {
    "name": "ipython",
    "version": 2
   },
   "file_extension": ".py",
   "mimetype": "text/x-python",
   "name": "python",
   "nbconvert_exporter": "python",
   "pygments_lexer": "ipython2",
   "version": "2.7.13"
  }
 },
 "nbformat": 4,
 "nbformat_minor": 2
}
